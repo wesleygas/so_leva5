{
 "cells": [
  {
   "cell_type": "code",
   "execution_count": 2,
   "metadata": {},
   "outputs": [],
   "source": [
    "import numpy as np\n",
    "import matplotlib.pyplot as plt\n",
    "import matplotlib.animation as animation"
   ]
  },
  {
   "cell_type": "code",
   "execution_count": null,
   "metadata": {},
   "outputs": [],
   "source": [
    "FFwriter = animation.FFMpegWriter(fps = 30)\n",
    "plt.rcParams['animation.ffmpeg_path'] ='.\\ffmpeg.exe'\n",
    "figh = plt.figure()\n",
    "g_images = []\n",
    "ani = animation.ArtistAnimation(figh, g_images, interval=50, blit=True, repeat_delay=1000)\n",
    "\n",
    "ani.save(\"figure.mp4\", writer=FFwriter)\n",
    "\n",
    "plt.show()"
   ]
  },
  {
   "cell_type": "code",
   "execution_count": null,
   "metadata": {},
   "outputs": [],
   "source": [
    "#%matplotlib notebook\n",
    "#                   E    C    D    B\n",
    "isolationMatrix = [False,True,False,False]\n",
    "\n",
    "K = 1\n",
    "Qp = 100\n",
    "alpha = 1\n",
    "n = 2 #Numero do grupo pq sim\n",
    "\n",
    "tolerance = 1e-3\n",
    "\n",
    "p = (n/1.4,60/(n+5))\n",
    "\n",
    "deltaT = 0.8\n",
    "deltaX = 2e-2\n",
    "deltaY = deltaX\n",
    "X = np.arange(0,30+deltaXY,deltaXY)\n",
    "Y = np.arange(0,20+deltaXY,deltaXY)\n",
    "t = np.arange(0,30+deltaT,deltaT)\n",
    "\n",
    "nodeMatrix = np.zeros(shape =(len(X), len(Y)))\n",
    "nodeMatrix[:,0] = 100\n",
    "nodeMatrix[:,-1] = 100\n",
    "nodeMatrix[0,:] = 0\n",
    "nodeMatrix[-1,:] = 30"
   ]
  },
  {
   "cell_type": "code",
   "execution_count": 12,
   "metadata": {},
   "outputs": [],
   "source": [
    "def func_u(x,y):\n",
    "    return(alpha)\n",
    "def func_v(x,y):\n",
    "    return alpha*np.sin(np.pi*x/5)\n",
    "\n",
    "def d1_central(prox,ant,delta):\n",
    "    return (prox-ant)/(2*delta)\n",
    "\n",
    "def d2_central(prox,ant,atual,delta):\n",
    "    return (prox - 2*(atual) + ant)/(delta**2)\n",
    "\n",
    "def tutti(u , v, meio , cima, baixo, esquerda, direita):\n",
    "    total = meio + k*d2_central(prox=direita,ant=esquerda,atual=meio, delta=deltaX)\n",
    "    total+= k*d2_central(prox=baixo,ant=cima,atual=meio, delta=deltaY)\n",
    "    total-= u*d1_central(prox=direita, ant=esquerda, delta=deltaX)\n",
    "    total-= v*d1_central(prox=baixo, ant=cima, delta=deltaY)\n",
    "    return total"
   ]
  },
  {
   "cell_type": "code",
   "execution_count": 13,
   "metadata": {},
   "outputs": [],
   "source": [
    "def calcDiff2D(nodes):\n",
    "    nodes_t = nodes.copy()\n",
    "    for i in range(1, len(nodes)-1):\n",
    "        for j in range(1,len(nodes[0])-1):\n",
    "            if(isolationMatrix[0] and j==1):\n",
    "                nodes[i][j-1] = nodes[i][j+1]\n",
    "            if(isolationMatrix[2] and i==len(nodes[0])-2):\n",
    "                nodes[i][j+1] = nodes[i][j-1]\n",
    "            if(isolationMatrix[1] and i==1):\n",
    "                nodes[i-1][j] = nodes[i+1][j]\n",
    "            if(isolationMatrix[3] and i==len(nodes)-2):\n",
    "                nodes[i+1][j] = nodes[i-1][j]\n",
    "                \n",
    "            nodes_t[i][j] = tutti(func_u(j,i),func_v(j,i),nodes[i][j], nodes[i-1][j], nodes[i+1][j],nodes[i][j-1],nodes[i][j+1])"
   ]
  },
  {
   "cell_type": "code",
   "execution_count": null,
   "metadata": {},
   "outputs": [],
   "source": []
  }
 ],
 "metadata": {
  "kernelspec": {
   "display_name": "Python 3",
   "language": "python",
   "name": "python3"
  }
 },
 "nbformat": 4,
 "nbformat_minor": 2
}
